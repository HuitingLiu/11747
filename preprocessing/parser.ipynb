{
 "cells": [
  {
   "cell_type": "code",
   "execution_count": 1,
   "metadata": {},
   "outputs": [],
   "source": [
    "import re"
   ]
  },
  {
   "cell_type": "code",
   "execution_count": 2,
   "metadata": {},
   "outputs": [],
   "source": [
    "from sympy import postorder_traversal, Symbol\n",
    "from sympy.parsing.sympy_parser import parse_expr\n",
    "from sympy.parsing.sympy_parser import standard_transformations, convert_xor, factorial_notation, function_exponentiation, implicit_multiplication, implicit_application, _token_splittable, split_symbols_custom\n",
    "from sympy.parsing.sympy_tokenize import NUMBER, STRING, NAME, OP, ENDMARKER\n",
    "from sympy.core.evaluate import global_evaluate\n",
    "global_evaluate[0] = False"
   ]
  },
  {
   "cell_type": "code",
   "execution_count": 3,
   "metadata": {},
   "outputs": [],
   "source": [
    "from simpleTransform import SimpleTransform"
   ]
  },
  {
   "cell_type": "code",
   "execution_count": 4,
   "metadata": {},
   "outputs": [],
   "source": [
    "from collections import Counter"
   ]
  },
  {
   "cell_type": "code",
   "execution_count": 5,
   "metadata": {},
   "outputs": [],
   "source": [
    "def rewrite_number(text):\n",
    "    se = SimpleTransform()\n",
    "    start = 0\n",
    "    n = len(text)\n",
    "    result = ''\n",
    "    while start < n:\n",
    "        matched, num_str = se.rewriteNumber(list(text[start:]))\n",
    "        if matched > 0:\n",
    "            start += matched\n",
    "            result += num_str\n",
    "        else:\n",
    "            while start < n and not text[start].isspace():\n",
    "                result += text[start]\n",
    "                start += 1\n",
    "            if start < n:\n",
    "                result += text[start]\n",
    "            start += 1\n",
    "    return result"
   ]
  },
  {
   "cell_type": "code",
   "execution_count": 6,
   "metadata": {},
   "outputs": [],
   "source": [
    "def combinatorial_notation(tokens, local_dict, global_dict):\n",
    "    beginning = [(NAME, 'binomial'), (OP, '(')]\n",
    "    comma = [(OP, ',')]\n",
    "    end = [(OP, ')')]\n",
    "    last_toknum = None\n",
    "    result = []\n",
    "    for toknum, tokval in tokens:\n",
    "        if last_toknum == NUMBER and toknum == NAME and len(tokval) > 1 and tokval[0] in ('c', 'C') and tokval[1:].isdigit():\n",
    "            result = result[:-1] + beginning + result[-1:] + comma + [(NUMBER, tokval[1:])] + end\n",
    "        else:\n",
    "            result.append((toknum, tokval))\n",
    "            last_toknum = toknum\n",
    "    return result"
   ]
  },
  {
   "cell_type": "code",
   "execution_count": 7,
   "metadata": {},
   "outputs": [],
   "source": [
    "def inspect(tokens, local_dict, global_dict):\n",
    "    print(tokens)\n",
    "    return tokens"
   ]
  },
  {
   "cell_type": "code",
   "execution_count": 8,
   "metadata": {},
   "outputs": [],
   "source": [
    "def reject_symbols(symbols):\n",
    "    def transformation(tokens, local_dict, global_dict):\n",
    "        for toknum, tokval in tokens:\n",
    "            if toknum == NAME and tokval in symbols:\n",
    "                raise NameError()\n",
    "        return tokens\n",
    "    return transformation"
   ]
  },
  {
   "cell_type": "code",
   "execution_count": 9,
   "metadata": {},
   "outputs": [],
   "source": [
    "def get_transformations(splittable_symbols):\n",
    "    def splittable(symbol):\n",
    "        return set(symbol).issubset(splittable_symbols)\n",
    "    \n",
    "    return (combinatorial_notation,) + standard_transformations + (\n",
    "        convert_xor,\n",
    "        split_symbols_custom(splittable),\n",
    "        implicit_multiplication,\n",
    "        implicit_application,\n",
    "        function_exponentiation,\n",
    "        #inspect\n",
    "    )"
   ]
  },
  {
   "cell_type": "code",
   "execution_count": 10,
   "metadata": {},
   "outputs": [],
   "source": [
    "def all_symbols(expr):\n",
    "    for sub_expr in postorder_traversal(expr):\n",
    "        if hasattr(sub_expr, 'is_symbol') and sub_expr.is_symbol:\n",
    "            yield str(sub_expr)"
   ]
  },
  {
   "cell_type": "code",
   "execution_count": 11,
   "metadata": {},
   "outputs": [],
   "source": [
    "def all_values(expr):\n",
    "    for sub_expr in postorder_traversal(expr):\n",
    "        eval_result = sub_expr.evalf()\n",
    "        if eval_result.is_number:\n",
    "            yield eval_result, len(sub_expr.args) == 0"
   ]
  },
  {
   "cell_type": "code",
   "execution_count": 12,
   "metadata": {},
   "outputs": [],
   "source": [
    "def parse(text, splittable_symbols=set(), local_dict={name: Symbol(name) for name in ('x', 'y', 'z', 'A', 'B', 'C')}):\n",
    "    expr = parse_expr(text, local_dict=local_dict, transformations=get_transformations(splittable_symbols))\n",
    "    for symbol in all_symbols(expr):\n",
    "        if '_' in symbol and '' not in symbol.split('_'):\n",
    "            continue\n",
    "        if len(symbol) > 2:\n",
    "            raise NameError()\n",
    "        if len(symbol) == 2 and not symbol[-1].isdigit():\n",
    "            raise NameError()\n",
    "    return expr"
   ]
  },
  {
   "cell_type": "code",
   "execution_count": 13,
   "metadata": {},
   "outputs": [],
   "source": [
    "def try_parse(text, splittable_symbols=set()):\n",
    "    try:\n",
    "        return parse(text, splittable_symbols)\n",
    "    except:\n",
    "        return None"
   ]
  },
  {
   "cell_type": "code",
   "execution_count": 14,
   "metadata": {},
   "outputs": [],
   "source": [
    "def potential_expr(char):\n",
    "    return char.isdigit() or char in {'+', '*', '/', '^'}"
   ]
  },
  {
   "cell_type": "code",
   "execution_count": 15,
   "metadata": {},
   "outputs": [],
   "source": [
    "def extract_exprs_from_line(line, splittable_symbols=set()):\n",
    "    if not line:\n",
    "        return []\n",
    "    pos = 0\n",
    "    n = len(line)\n",
    "    lower_bound = 0\n",
    "    while pos < n:\n",
    "        if potential_expr(line[pos]):\n",
    "            start = pos\n",
    "            end = pos + 1\n",
    "            found = False\n",
    "            for start in range(lower_bound, pos + 1):\n",
    "                if start > lower_bound and line[start-1].isalpha() and line[start].isalpha():\n",
    "                    continue\n",
    "                for end in range(n, pos, -1):\n",
    "                    if end < n and line[end].isalpha() and line[end-1].isalpha():\n",
    "                        continue\n",
    "                    expr_text = line[start:end]\n",
    "                    expr = try_parse(expr_text, splittable_symbols)\n",
    "                    if expr is not None:\n",
    "                        yield start, end, expr\n",
    "                        lower_bound = end\n",
    "                        pos = end\n",
    "                        found = True\n",
    "                        break\n",
    "                if found:\n",
    "                    break\n",
    "            if not found:\n",
    "                pos += 1\n",
    "        else:\n",
    "            pos += 1"
   ]
  },
  {
   "cell_type": "code",
   "execution_count": 16,
   "metadata": {},
   "outputs": [],
   "source": [
    "def extract_exprs_from_text(text, splittable_symbols=set(), delimiter=re.compile(r'(=|\\n|,|>|<|\\(\\w\\))')):\n",
    "    base = 0\n",
    "    for segment in delimiter.split(text):\n",
    "        if len(segment) > 0 and delimiter.match(segment) is None:\n",
    "            for start, end, expr in extract_exprs_from_line(segment, splittable_symbols):\n",
    "                yield base + start, base + end, expr\n",
    "        base += len(segment)"
   ]
  },
  {
   "cell_type": "code",
   "execution_count": 17,
   "metadata": {},
   "outputs": [],
   "source": [
    "def split_text_and_expr(text, splittable_symbols=set()):\n",
    "    last_end = 0\n",
    "    for start, end, expr in extract_exprs_from_text(text, splittable_symbols):\n",
    "        if last_end != start:\n",
    "            yield last_end, start, ''\n",
    "        yield start, end, expr\n",
    "        last_end = end\n",
    "    if last_end < len(text):\n",
    "        yield last_end, len(text), ''"
   ]
  },
  {
   "cell_type": "code",
   "execution_count": 18,
   "metadata": {},
   "outputs": [],
   "source": [
    "def parse_rationale(text):\n",
    "    symbols = set()\n",
    "    for start, end, segment in split_text_and_expr(text):\n",
    "        is_expr = type(segment) != str\n",
    "        if is_expr:\n",
    "            symbols |= set(all_symbols(segment))\n",
    "    splittable_symbols = {symbol for symbol in symbols if len(symbol) == 1}\n",
    "    #print(splittable_symbols)\n",
    "\n",
    "    results = []\n",
    "    for start, end, segment in split_text_and_expr(text, splittable_symbols=splittable_symbols):\n",
    "        is_expr = type(segment) != str\n",
    "        results.append((is_expr, segment, text[start:end]))\n",
    "\n",
    "    return results"
   ]
  },
  {
   "cell_type": "code",
   "execution_count": 19,
   "metadata": {},
   "outputs": [],
   "source": [
    "text = \"At the non-discounted price, each friend would pay $240, as $ 1200 divided by 5 friends is $240 per friend. But if the bill is 15% off, then each friend would pay 15% less. 15% of $240 is $36, so each friend saves $36 and pays the remaining $204\\nCORRECT OPTION:OPTION E\""
   ]
  },
  {
   "cell_type": "code",
   "execution_count": 20,
   "metadata": {},
   "outputs": [],
   "source": [
    "text = \"M + D + I = 74 - - - (1)\\n(D + I) - M = 46 - - - (2)\\nI = 410410 D \\u21d2\\u21d2 5I = 2D \\u21d2\\u21d2 I = 2D/5 - - - (3)\\nAdding (1) and (2) we get 2D + 2I = 120\\nSubstituting the value of I in the above equation,\\n2D+2(2D5)=1202D+2(2D5)=120\\n\\u21d2\\u21d2 14D = 600\\n\\u21d2\\u21d2 D = 300/7 = 42.8\\nAns:B\""
   ]
  },
  {
   "cell_type": "code",
   "execution_count": 21,
   "metadata": {},
   "outputs": [],
   "source": [
    "text = \"Total 12 different Gifts, and 4 children.\\nThus any one child gets 12C3 gifts,\\nthen the other child gets 9C3 gifts(12 total - 3 already given),\\nthen the third one gets 6C3 gifts,\\nand the last child gets 3C3 gifts.\\nSince order in which each child gets the gift is not imp, thus, ans :\\n12C3 * 9C3 * 6C3 * 3C3 = 12! / (3!)^4\\nAns : C.\""
   ]
  },
  {
   "cell_type": "code",
   "execution_count": 22,
   "metadata": {},
   "outputs": [],
   "source": [
    "text = \"spotting the pattern of equations both are in form of (X+C)^2 so\\nA1= (x+2)^2A2= (2x-3)^2\\nL1= x+2L2= 2x-3\\nP1 = 4( x+2)P2=4(2x-3)\\nP1+P2=32\\n4( x+2) +4(2x-3)=32..............> X=3\\nAnswer: E\""
   ]
  },
  {
   "cell_type": "code",
   "execution_count": 23,
   "metadata": {},
   "outputs": [],
   "source": [
    "text = \"For all positive integers n and m,\\nA(n) = (1 + 1/2 + 1/2^2)(1 + 1/3 + 3^2)(1 + 1/5 + 5^2)\\u2026(1 + 1/p_n + 1/p_n^2), where p_n is the nth smallest prime number,\\nnote:i think there's a typo in the above function, A(n) could be (1 + 1/2 + 1/2^2)(1 + 1/3 +1/3^2)(1 + 1/5 +1/5^2)\\u2026(1 + 1/p_n + 1/p_n^2)\\nB(m) = sum of the reciprocals of all the positive integers from 1 through m, inclusive.\\nA(5), here 5 represents the 5th smallest prime number; the 5th smallest prime number is 11 {2, 3, 5, 7, 11, ...}\\nA(5) = (1 + 1/2 + 1/2^2)(1 + 1/3 + 3^2)(1 + 1/5 + 5^2)(1 + 1/7 + 1/7^2)(1 + 1/11 + 11^2)\\nThe distributed expansion of A(5) = 1 + 1/2 + 1/3 + 1/4 + 1/5 + 1/6 +1/7 + 1/9+ 1/10 + 1/11 +1/12 + 1/14+ ...\\nmissing numbers are 1/8, 1/13, 1/16, ....\\nB(25) = (1 + 1/2 + 1/3 + 1/4 + ... + 1/16 + 1/17 + ... + 1/25)\\nhere the largest reciprocal is 1 and the reciprocals are arranged in descending order based on their values\\nThe largest reciprocal that present in B(25) but not in A(5) is 1/3\\nAnswer A\""
   ]
  },
  {
   "cell_type": "code",
   "execution_count": 24,
   "metadata": {},
   "outputs": [
    {
     "name": "stdout",
     "output_type": "stream",
     "text": [
      "For all positive integers n and m,\n",
      "A(n) = (1 + 1/2 + 1/2^2)(1 + 1/3 + 3^2)(1 + 1/5 + 5^2)…(1 + 1/p_n + 1/p_n^2), where p_n is the nth smallest prime number,\n",
      "note:i think there's a typo in the above function, A(n) could be (1 + 1/2 + 1/2^2)(1 + 1/3 +1/3^2)(1 + 1/5 +1/5^2)…(1 + 1/p_n + 1/p_n^2)\n",
      "B(m) = sum of the reciprocals of all the positive integers from 1 through m, inclusive.\n",
      "A(5), here 5 represents the 5th smallest prime number; the 5th smallest prime number is 11 {2, 3, 5, 7, 11, ...}\n",
      "A(5) = (1 + 1/2 + 1/2^2)(1 + 1/3 + 3^2)(1 + 1/5 + 5^2)(1 + 1/7 + 1/7^2)(1 + 1/11 + 11^2)\n",
      "The distributed expansion of A(5) = 1 + 1/2 + 1/3 + 1/4 + 1/5 + 1/6 +1/7 + 1/9+ 1/10 + 1/11 +1/12 + 1/14+ ...\n",
      "missing numbers are 1/8, 1/13, 1/16, ....\n",
      "B(25) = (1 + 1/2 + 1/3 + 1/4 + ... + 1/16 + 1/17 + ... + 1/25)\n",
      "here the largest reciprocal is 1 and the reciprocals are arranged in descending order based on their values\n",
      "The largest reciprocal that present in B(25) but not in A(5) is 1/3\n",
      "Answer A\n"
     ]
    },
    {
     "data": {
      "text/plain": [
       "[(False, '', 'For all positive integers n and m,\\nA(n) ='),\n",
       " (True,\n",
       "  ((1/3 + 1 + 3**2)*(1/(2**2) + 1/2 + 1))*(1/5 + 1 + 5**2),\n",
       "  ' (1 + 1/2 + 1/2^2)(1 + 1/3 + 3^2)(1 + 1/5 + 5^2)'),\n",
       " (False, '', '…'),\n",
       " (True, 1 + 1/p_n + 1/(p_n**2), '(1 + 1/p_n + 1/p_n^2)'),\n",
       " (False,\n",
       "  '',\n",
       "  \", where p_n is the nth smallest prime number,\\nnote:i think there's a typo in the above function, A(n) could be\"),\n",
       " (True,\n",
       "  ((1/(2**2) + 1/2 + 1)*(1/(3**2) + 1/3 + 1))*(1/(5**2) + 1/5 + 1),\n",
       "  ' (1 + 1/2 + 1/2^2)(1 + 1/3 +1/3^2)(1 + 1/5 +1/5^2)'),\n",
       " (False, '', '…'),\n",
       " (True, 1 + 1/p_n + 1/(p_n**2), '(1 + 1/p_n + 1/p_n^2)'),\n",
       " (False,\n",
       "  '',\n",
       "  '\\nB(m) = sum of the reciprocals of all the positive integers from'),\n",
       " (True, 1, ' 1 '),\n",
       " (False, '', 'through m, inclusive.\\nA(5), here'),\n",
       " (True, 5, ' 5 '),\n",
       " (False, '', 'represents the'),\n",
       " (True, 5, ' 5'),\n",
       " (False, '', 'th smallest prime number; the'),\n",
       " (True, 5, ' 5'),\n",
       " (False, '', 'th smallest prime number is'),\n",
       " (True, 11, ' 11 '),\n",
       " (False, '', '{'),\n",
       " (True, 2, '2'),\n",
       " (False, '', ','),\n",
       " (True, 3, ' 3'),\n",
       " (False, '', ','),\n",
       " (True, 5, ' 5'),\n",
       " (False, '', ','),\n",
       " (True, 7, ' 7'),\n",
       " (False, '', ','),\n",
       " (True, 11, ' 11'),\n",
       " (False, '', ', ...}\\nA(5) ='),\n",
       " (True,\n",
       "  ((((1/3 + 1 + 3**2)*(1/(2**2) + 1/2 + 1))*(1/5 + 1 + 5**2))*(1/(7**2) + 1/7 + 1))*(1/11 + 1 + 11**2),\n",
       "  ' (1 + 1/2 + 1/2^2)(1 + 1/3 + 3^2)(1 + 1/5 + 5^2)(1 + 1/7 + 1/7^2)(1 + 1/11 + 11^2)'),\n",
       " (False, '', '\\nThe distributed expansion of A(5) ='),\n",
       " (True,\n",
       "  1/14 + 1/12 + 1/11 + 1/10 + 1/9 + 1/7 + 1/6 + 1/5 + 1/4 + 1/3 + 1/2 + 1,\n",
       "  ' 1 + 1/2 + 1/3 + 1/4 + 1/5 + 1/6 +1/7 + 1/9+ 1/10 + 1/11 +1/12 + 1/14'),\n",
       " (False, '', '+ ...\\nmissing numbers are'),\n",
       " (True, 1/8, ' 1/8'),\n",
       " (False, '', ','),\n",
       " (True, 1/13, ' 1/13'),\n",
       " (False, '', ','),\n",
       " (True, 1/16, ' 1/16'),\n",
       " (False, '', ', ....\\n'),\n",
       " (True, 25*B, 'B(25) '),\n",
       " (False, '', '= ('),\n",
       " (True, 1/4 + 1/3 + 1/2 + 1, '1 + 1/2 + 1/3 + 1/4 '),\n",
       " (False, '', '+ ...'),\n",
       " (True, 1/17 + 1/16, ' + 1/16 + 1/17 '),\n",
       " (False, '', '+ ...'),\n",
       " (True, 1/25, ' + 1/25'),\n",
       " (False, '', ')\\nhere the largest reciprocal is'),\n",
       " (True, 1, ' 1 '),\n",
       " (False,\n",
       "  '',\n",
       "  'and the reciprocals are arranged in descending order based on their values\\nThe largest reciprocal that present in'),\n",
       " (True, 25*B, ' B(25) '),\n",
       " (False, '', 'but not in A(5) is'),\n",
       " (True, 1/3, ' 1/3'),\n",
       " (False, '', '\\nAnswer A')]"
      ]
     },
     "execution_count": 24,
     "metadata": {},
     "output_type": "execute_result"
    }
   ],
   "source": [
    "rewritten_text = rewrite_number(text)\n",
    "print(rewritten_text)\n",
    "parse_rationale(rewritten_text)"
   ]
  },
  {
   "cell_type": "code",
   "execution_count": null,
   "metadata": {},
   "outputs": [],
   "source": []
  }
 ],
 "metadata": {
  "kernelspec": {
   "display_name": "Python 3",
   "language": "python",
   "name": "python3"
  },
  "language_info": {
   "codemirror_mode": {
    "name": "ipython",
    "version": 3
   },
   "file_extension": ".py",
   "mimetype": "text/x-python",
   "name": "python",
   "nbconvert_exporter": "python",
   "pygments_lexer": "ipython3",
   "version": "3.6.3"
  }
 },
 "nbformat": 4,
 "nbformat_minor": 2
}
