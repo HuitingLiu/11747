{
 "cells": [
  {
   "cell_type": "code",
   "execution_count": 1,
   "metadata": {},
   "outputs": [],
   "source": [
    "from __future__ import print_function"
   ]
  },
  {
   "cell_type": "code",
   "execution_count": 2,
   "metadata": {},
   "outputs": [],
   "source": [
    "import copy\n",
    "import re\n",
    "import spacy\n",
    "\n",
    "from collections import Counter\n",
    "from simpleTransform import SimpleTransform\n",
    "from sympy import postorder_traversal, simplify\n",
    "from sympy.parsing.sympy_parser import _token_splittable\n",
    "from sympy.parsing.sympy_parser import convert_xor\n",
    "from sympy.parsing.sympy_parser import factorial_notation\n",
    "from sympy.parsing.sympy_parser import function_exponentiation\n",
    "from sympy.parsing.sympy_parser import implicit_application\n",
    "from sympy.parsing.sympy_parser import implicit_multiplication\n",
    "from sympy.parsing.sympy_parser import parse_expr\n",
    "from sympy.parsing.sympy_parser import split_symbols_custom\n",
    "from sympy.parsing.sympy_parser import standard_transformations\n",
    "from sympy.parsing.sympy_tokenize import ENDMARKER\n",
    "from sympy.parsing.sympy_tokenize import NAME\n",
    "from sympy.parsing.sympy_tokenize import NUMBER\n",
    "from sympy.parsing.sympy_tokenize import OP\n",
    "from sympy.parsing.sympy_tokenize import STRING"
   ]
  },
  {
   "cell_type": "code",
   "execution_count": 3,
   "metadata": {},
   "outputs": [],
   "source": [
    "def rewrite_number(text):\n",
    "    se = SimpleTransform()\n",
    "    start = 0\n",
    "    n = len(text)\n",
    "    result = ''\n",
    "    while start < n:\n",
    "        matched, num_str = se.rewriteNumber(list(text[start:]))\n",
    "        if matched > 0:\n",
    "            start += matched\n",
    "            result += num_str\n",
    "        else:\n",
    "            while start < n and not text[start].isspace():\n",
    "                result += text[start]\n",
    "                start += 1\n",
    "            if start < n:\n",
    "                result += text[start]\n",
    "            start += 1\n",
    "    return result"
   ]
  },
  {
   "cell_type": "code",
   "execution_count": 4,
   "metadata": {},
   "outputs": [],
   "source": [
    "num_with_comma = re.compile(r'((\\d+\\.\\d+|\\d+|\\?+|_+|\\.+),)+\\d+(\\.\\d+)?')\n",
    "\n",
    "def process_num_with_comma(text):\n",
    "    def islist(segment):\n",
    "        if '?' in segment or '_' in segment:\n",
    "            return True\n",
    "        parts = segment.split(',')\n",
    "        if any(map(lambda x: '.' in x, parts[:-1])):\n",
    "            return True\n",
    "        lengths = list(map(len, parts))\n",
    "        lengths[-1] = len(parts[-1].split('.')[0])\n",
    "        len_counts = Counter(lengths)\n",
    "        if any(map(lambda x: x > 3, len_counts)):\n",
    "            return True\n",
    "        if len_counts[3] == 0:\n",
    "            return True\n",
    "        if len_counts[1] > 1 or len_counts[2] > 1:\n",
    "            return True\n",
    "        for left_length, right_length in zip(lengths, lengths[1:]):\n",
    "            if left_length > right_length:\n",
    "                return True\n",
    "        if ',0' in segment:\n",
    "            return False\n",
    "        return len(parts) > 3\n",
    "    result = ''\n",
    "    rest_text = text\n",
    "    while True:\n",
    "        match = num_with_comma.search(rest_text)\n",
    "        if match is None:\n",
    "            result += rest_text\n",
    "            break\n",
    "        else:\n",
    "            start, end = match.span()\n",
    "            result += rest_text[:start]\n",
    "            segment = match.group()\n",
    "            if not islist(segment):\n",
    "                result += segment\n",
    "            else:\n",
    "                result += ' , '.join(segment.split(','))\n",
    "            rest_text = rest_text[end:]\n",
    "    return result"
   ]
  },
  {
   "cell_type": "code",
   "execution_count": 5,
   "metadata": {},
   "outputs": [],
   "source": [
    "tokenizer = spacy.load('en').tokenizer\n",
    "arrow_str = re.compile(r'(-( )*){3,}')\n",
    "doller_num = re.compile(r'($)(\\d)')\n",
    "stock_num = re.compile(r'([A-z]\\.)(\\d)')\n",
    "num_unit = re.compile(r'(\\d,\\d\\d\\d)([A-z])')\n",
    "power_notation = re.compile(r'(\\(\\d+\\))(\\d)')\n",
    "hyphen_concat = re.compile(r' ?- ?')\n",
    "\n",
    "def rewrite_with_tokenization(text):\n",
    "    text = text.replace('\\u2019', \"'\")\n",
    "    text = text.replace('\\u201c', '\"')\n",
    "    text = power_notation.sub(r'\\g<1>^\\g<2>', text)\n",
    "    text = arrow_str.sub('\\u2192', text)\n",
    "    text = doller_num.sub(r'\\g<1> \\g<2>', text)\n",
    "    text = stock_num.sub(r'\\g<1> \\g<2>', text)\n",
    "    text = num_unit.sub(r'\\g<1> \\g<2>', text)\n",
    "    text = hyphen_concat.sub('-', text)\n",
    "    text = process_num_with_comma(text)\n",
    "    text = rewrite_number(text)\n",
    "    spaced_text = ' '.join(map(str, tokenizer(text)))\n",
    "    return rewrite_number(spaced_text)"
   ]
  },
  {
   "cell_type": "code",
   "execution_count": 6,
   "metadata": {},
   "outputs": [],
   "source": [
    "def combinatorial_notation(tokens, local_dict, global_dict):\n",
    "    beginning = [(NAME, 'binomial'), (OP, '(')]\n",
    "    comma = [(OP, ',')]\n",
    "    end = [(OP, ')')]\n",
    "    last_toknum = None\n",
    "    result = []\n",
    "    for toknum, tokval in tokens:\n",
    "        if last_toknum == NUMBER and toknum == NAME and len(tokval) > 1 and tokval[0] in ('c', 'C') and tokval[1:].isdigit():\n",
    "            result = result[:-1] + beginning + result[-1:] + comma + [(NUMBER, tokval[1:])] + end\n",
    "        else:\n",
    "            result.append((toknum, tokval))\n",
    "            last_toknum = toknum\n",
    "    return result"
   ]
  },
  {
   "cell_type": "code",
   "execution_count": 7,
   "metadata": {},
   "outputs": [],
   "source": [
    "operator_dict = {\n",
    "    '\\u2013': [(OP, '-')],\n",
    "    '\\u2014': [(OP, '-')],\n",
    "    '\\u2212': [(OP, '-')],\n",
    "    '\\u00f7': [(OP, '/')],\n",
    "    '\\u2044': [(OP, '/')],\n",
    "    '\\u2217': [(OP, '*')],\n",
    "    '\\u00d7': [(OP, '*')],\n",
    "    '\\u02c6': [(OP, '^')],\n",
    "    '\\u00b2': [(OP, '^'), (NUMBER, '2')],\n",
    "    '\\u00b3': [(OP, '^'), (NUMBER, '3')],\n",
    "    '\\u00b9': [(OP, '^'), (NUMBER, '1')],\n",
    "    '\\u2070': [(OP, '^'), (NUMBER, '0')],\n",
    "    '\\u2074': [(OP, '^'), (NUMBER, '4')],\n",
    "    '\\u2075': [(OP, '^'), (NUMBER, '5')],\n",
    "    '\\u2076': [(OP, '^'), (NUMBER, '6')],\n",
    "    '\\u2077': [(OP, '^'), (NUMBER, '7')],\n",
    "    '\\u2078': [(OP, '^'), (NUMBER, '8')],\n",
    "    '\\u2079': [(OP, '^'), (NUMBER, '9')],\n",
    "    '\\u221a': [(NAME, 'sqrt')],\n",
    "    '\\u2154': [(OP, '('), (NUMBER, '2'), (OP, '/'), (NUMBER, '3'), (OP, ')')],\n",
    "    '\\u00bd': [(OP, '('), (NUMBER, '1'), (OP, '/'), (NUMBER, '2'), (OP, ')')],\n",
    "    '\\u00bc': [(OP, '('), (NUMBER, '1'), (OP, '/'), (NUMBER, '4'), (OP, ')')],\n",
    "    '\\u00be': [(OP, '('), (NUMBER, '3'), (OP, '/'), (NUMBER, '4'), (OP, ')')],\n",
    "    '\\u2157': [(OP, '('), (NUMBER, '3'), (OP, '/'), (NUMBER, '5'), (OP, ')')],\n",
    "    '\\u2158': [(OP, '('), (NUMBER, '4'), (OP, '/'), (NUMBER, '5'), (OP, ')')],\n",
    "    '\\u03c0': [(NAME, 'pi')],\n",
    "    '[': [(OP, '(')],\n",
    "    ']': [(OP, ')')],\n",
    "    '{': [(OP, '(')],\n",
    "    '}': [(OP, ')')],\n",
    "}\n",
    "operator_splitor = re.compile('(%s)' % '|'.join(operator_dict.keys()))\n",
    "def unicode_operator(tokens, local_dict, global_dict):\n",
    "    result = []\n",
    "    for toknum, tokval in tokens:\n",
    "        if tokval in operator_dict:\n",
    "            result += operator_dict[tokval]\n",
    "        else:\n",
    "            result.append((toknum, tokval))\n",
    "    return result"
   ]
  },
  {
   "cell_type": "code",
   "execution_count": 8,
   "metadata": {},
   "outputs": [],
   "source": [
    "def reject_symbols(symbols):\n",
    "    def transformation(tokens, local_dict, global_dict):\n",
    "        for toknum, tokval in tokens:\n",
    "            if toknum == NAME and tokval in symbols:\n",
    "                raise NameError()\n",
    "        return tokens\n",
    "    return transformation"
   ]
  },
  {
   "cell_type": "code",
   "execution_count": 9,
   "metadata": {},
   "outputs": [],
   "source": [
    "def get_transformations(splittable_symbols):\n",
    "    def splittable(symbol):\n",
    "        return set(symbol).issubset(splittable_symbols)\n",
    "    return (combinatorial_notation, unicode_operator) + standard_transformations + (\n",
    "        convert_xor,\n",
    "        split_symbols_custom(splittable),\n",
    "        implicit_multiplication,\n",
    "        implicit_application,\n",
    "        function_exponentiation\n",
    "    )"
   ]
  },
  {
   "cell_type": "code",
   "execution_count": 10,
   "metadata": {},
   "outputs": [],
   "source": [
    "def all_symbols(expr):\n",
    "    for sub_expr in postorder_traversal(expr):\n",
    "        if hasattr(sub_expr, 'is_symbol') and sub_expr.is_symbol:\n",
    "            yield str(sub_expr)"
   ]
  },
  {
   "cell_type": "code",
   "execution_count": 11,
   "metadata": {},
   "outputs": [],
   "source": [
    "def contains_symbol(expr):\n",
    "    exprs_with_symbol = set()\n",
    "    def contains(expr):\n",
    "        expr_id = id(expr)\n",
    "        return expr_id in exprs_with_symbol\n",
    "    for sub_expr in enumerate(postorder_traversal(expr)):\n",
    "        if hasattr(sub_expr, 'is_symbol') and sub_expr.is_symbol or (hasattr(sub_expr, 'args') and any(map(lambda x:contains(x), sub_expr.args))):\n",
    "            exprs_with_symbol.add(id(sub_expr))\n",
    "    return contains"
   ]
  },
  {
   "cell_type": "code",
   "execution_count": 12,
   "metadata": {},
   "outputs": [],
   "source": [
    "def all_values(expr):\n",
    "    \n",
    "    has_symbol = contains_symbol(expr)\n",
    "    \n",
    "    def traversal(expr):\n",
    "        args = expr.args\n",
    "        if len(args) >= 1:\n",
    "            yield from traversal(args[0])\n",
    "        if len(args) >= 2:\n",
    "            yield from traversal(args[1])\n",
    "        if len(args) >= 3:\n",
    "            partial_expr = expr.func(args[0], args[1])\n",
    "            for arg in args[2:]:\n",
    "                if has_symbol(partial_expr):\n",
    "                    break\n",
    "                partial_eval_result = partial_expr.evalf()\n",
    "                if partial_eval_result.is_number:\n",
    "                    yield partial_eval_result, partial_expr\n",
    "                yield from traversal(arg)\n",
    "                partial_expr = expr.func(partial_expr, arg)\n",
    "        if has_symbol(expr):\n",
    "            return\n",
    "        eval_result = expr.evalf()\n",
    "        if eval_result.is_number:\n",
    "            yield eval_result, expr\n",
    "    \n",
    "    yield from traversal(expr)"
   ]
  },
  {
   "cell_type": "code",
   "execution_count": 13,
   "metadata": {},
   "outputs": [],
   "source": [
    "def genereate_local_dict():\n",
    "    from sympy import binomial, factorial, factorial2, Mul, Add, Integer, Pow, Float, Symbol, sin, cos, tan, log, sqrt, pi\n",
    "    local_dict = {name: Symbol(name) for name in ('x', 'y', 'z', 'A', 'B', 'C', 'I', 'S', 'i', 's')}\n",
    "    local_dict['binomial'] = lambda x, y: binomial(x, y, evaluate = False)\n",
    "    local_dict['factorial'] = lambda x: factorial(x, evaluate = False)\n",
    "    local_dict['factorial2'] = lambda x: factorial2(x, evaluate = False)\n",
    "    local_dict['Mul'] = copy.deepcopy(Mul)\n",
    "    local_dict['Mul'].identity = copy.deepcopy(Mul.identity)\n",
    "    local_dict['Add'] = copy.deepcopy(Add)\n",
    "    local_dict['Add'].identity = copy.deepcopy(Add.identity)\n",
    "    local_dict['Integer'] = Integer\n",
    "    local_dict['Pow'] = Pow\n",
    "    local_dict['Float'] = Float\n",
    "    local_dict['Symbol'] = Symbol\n",
    "    local_dict['sin'] = sin\n",
    "    local_dict['cos'] = cos\n",
    "    local_dict['tan'] = tan\n",
    "    local_dict['log'] = log\n",
    "    local_dict['sqrt'] = sqrt\n",
    "    local_dict['pi'] = pi\n",
    "    return local_dict"
   ]
  },
  {
   "cell_type": "code",
   "execution_count": 14,
   "metadata": {},
   "outputs": [],
   "source": [
    "def parse(text, splittable_symbols=set(), local_dict=genereate_local_dict()):\n",
    "    from sympy.core.assumptions import ManagedProperties\n",
    "    from sympy.core.function import FunctionClass, UndefinedFunction\n",
    "    from sympy import Tuple\n",
    "    from types import FunctionType, MethodType\n",
    "    from sympy.logic.boolalg import BooleanTrue, BooleanFalse\n",
    "    text = ' '.join(operator_splitor.split(text))\n",
    "    expr = parse_expr(text, local_dict=local_dict, global_dict={}, transformations=get_transformations(splittable_symbols), evaluate=False)\n",
    "    if any(map(lambda x: type(x) in (BooleanTrue, BooleanFalse, ManagedProperties, FunctionClass, FunctionType, MethodType, Tuple, tuple, float, int, str, bool) or type(type(x)) in (UndefinedFunction, ), postorder_traversal(expr))):\n",
    "        raise NameError()\n",
    "    for symbol in all_symbols(expr):\n",
    "        if '_' in symbol and '' not in symbol.split('_'):\n",
    "            continue\n",
    "        if len(symbol) > 2:\n",
    "            raise NameError()\n",
    "        if len(symbol) == 2 and not symbol[-1].isdigit():\n",
    "            raise NameError()\n",
    "    return expr"
   ]
  },
  {
   "cell_type": "code",
   "execution_count": 15,
   "metadata": {},
   "outputs": [],
   "source": [
    "def try_parse(text, splittable_symbols=set(), local_dict=None):\n",
    "    try:\n",
    "        if local_dict is None:\n",
    "            return parse(text, splittable_symbols=splittable_symbols)\n",
    "        return parse(text, splittable_symbols=splittable_symbols, local_dict=local_dict)\n",
    "    except:\n",
    "        return None"
   ]
  },
  {
   "cell_type": "code",
   "execution_count": 16,
   "metadata": {},
   "outputs": [],
   "source": [
    "token_pattern = re.compile(r'[^\\W\\d_]+|\\d+|\\W|_+')\n",
    "def extract_exprs_from_line(line, splittable_symbols=set()):\n",
    "    if not line:\n",
    "        return\n",
    "    pos_list = [0]\n",
    "    potential_expr = []\n",
    "    for token in token_pattern.findall(line):\n",
    "        if token.isspace():\n",
    "            pos_list[-1] += len(token)\n",
    "        else:\n",
    "            potential_expr.append(token.isdigit() or token in {'+', '*', '/', '^'} or token in operator_dict)\n",
    "            pos_list.append(pos_list[-1] + len(token))\n",
    "    n = len(pos_list)\n",
    "    potential_expr.append(False)\n",
    "    pos_index = 0\n",
    "    lower_bound = 0\n",
    "    while pos_index < n:\n",
    "        found = False\n",
    "        if potential_expr[pos_index]:\n",
    "            for start_index in range(lower_bound, pos_index+1):\n",
    "                for end_index in range(n - 1, pos_index, -1):\n",
    "                    start, end = pos_list[start_index], pos_list[end_index]\n",
    "                    expr_text = line[start:end]\n",
    "                    expr = try_parse(expr_text, splittable_symbols)\n",
    "                    if expr is not None:\n",
    "                        yield start, end, expr\n",
    "                        lower_bound = end_index\n",
    "                        pos_index = end_index\n",
    "                        found = True\n",
    "                        break\n",
    "                if found:\n",
    "                    break\n",
    "        if not found:\n",
    "            pos_index += 1"
   ]
  },
  {
   "cell_type": "code",
   "execution_count": 17,
   "metadata": {},
   "outputs": [],
   "source": [
    "def extract_exprs_from_text(text, splittable_symbols=set(), delimiter=re.compile(r'(=|\\n|,|>|<|~|\\$)')):\n",
    "    base = 0\n",
    "    for segment in delimiter.split(text):\n",
    "        if len(segment) > 0 and delimiter.match(segment) is None:\n",
    "            for start, end, expr in extract_exprs_from_line(segment, splittable_symbols):\n",
    "                yield base + start, base + end, expr\n",
    "        base += len(segment)"
   ]
  },
  {
   "cell_type": "code",
   "execution_count": 18,
   "metadata": {},
   "outputs": [],
   "source": [
    "def split_text_and_expr(text, splittable_symbols=set()):\n",
    "    last_end = 0\n",
    "    for start, end, expr in extract_exprs_from_text(text, splittable_symbols):\n",
    "        if last_end != start:\n",
    "            yield last_end, start, text[last_end:start]\n",
    "        yield start, end, expr\n",
    "        last_end = end\n",
    "    if last_end < len(text):\n",
    "        yield last_end, len(text), text[last_end:len(text)]"
   ]
  },
  {
   "cell_type": "code",
   "execution_count": 19,
   "metadata": {},
   "outputs": [],
   "source": [
    "def parse_rationale(text):\n",
    "    text = rewrite_with_tokenization(text)\n",
    "    symbols = set()\n",
    "    for start, end, segment in split_text_and_expr(text):\n",
    "        is_expr = type(segment) != str\n",
    "        if is_expr:\n",
    "            symbols |= set(all_symbols(segment))\n",
    "    splittable_symbols = {symbol for symbol in symbols if len(symbol) == 1}\n",
    "    #print(splittable_symbols)\n",
    "\n",
    "    results = []\n",
    "    for start, end, segment in split_text_and_expr(text, splittable_symbols=splittable_symbols):\n",
    "        is_expr = type(segment) != str\n",
    "        if is_expr:\n",
    "            results.append((is_expr, segment))\n",
    "        else:\n",
    "            results.append((is_expr, list(map(lambda x:str(x).lower(), tokenizer(segment)))))\n",
    "\n",
    "    return results"
   ]
  },
  {
   "cell_type": "code",
   "execution_count": 20,
   "metadata": {},
   "outputs": [],
   "source": [
    "def extract_nums(text):\n",
    "    result = []\n",
    "    for is_expr, expr in parse_rationale(text):\n",
    "        if is_expr:\n",
    "            nums = list(all_values(expr))\n",
    "            for index, (num, sub_expr) in enumerate(nums):\n",
    "                result.append((num, len(sub_expr.args) == 0, index + 1 == len(nums)))\n",
    "    return result"
   ]
  },
  {
   "cell_type": "code",
   "execution_count": 21,
   "metadata": {},
   "outputs": [],
   "source": [
    "import sys\n",
    "import json"
   ]
  },
  {
   "cell_type": "code",
   "execution_count": 22,
   "metadata": {},
   "outputs": [],
   "source": [
    "with open('data/train.json') as f:\n",
    "    for (i, line) in enumerate(f):\n",
    "        d = json.loads(line)\n",
    "        if i < 28141:\n",
    "            continue\n",
    "        break\n",
    "        if i % 20 == 0 or True:\n",
    "            print(i)\n",
    "        d = json.loads(line)\n",
    "        extract_nums(d['question'])\n",
    "        extract_nums(d['rationale'])\n",
    "        for option in d['options']:\n",
    "            extract_nums(option)"
   ]
  },
  {
   "cell_type": "code",
   "execution_count": 23,
   "metadata": {},
   "outputs": [
    {
     "name": "stdout",
     "output_type": "stream",
     "text": [
      "If the line L passes through the point (3,n) and (n,3), where n is not equal to 3, which of the following must be true?\n",
      "1. Line L must passes through the first quadrant\n",
      "2. Line L does pass the origin\n",
      "3..The slope of L is negative\n"
     ]
    },
    {
     "data": {
      "text/plain": [
       "[(3.00000000000000, True, True),\n",
       " (3.00000000000000, True, True),\n",
       " (3.00000000000000, True, True),\n",
       " (1.00000000000000, True, True),\n",
       " (1.00000000000000, True, True),\n",
       " (2.00000000000000, True, True),\n",
       " (3.00000000000000, True, True)]"
      ]
     },
     "execution_count": 23,
     "metadata": {},
     "output_type": "execute_result"
    }
   ],
   "source": [
    "print(d['question'])\n",
    "extract_nums(d['question'])"
   ]
  },
  {
   "cell_type": "code",
   "execution_count": 24,
   "metadata": {},
   "outputs": [
    {
     "data": {
      "text/plain": [
       "[(False, ['slope', 'of', 'the', 'given', 'line=']),\n",
       " (True, -3 - 1 + 3),\n",
       " (False,\n",
       "  ['\\n ',\n",
       "   'given',\n",
       "   'information',\n",
       "   'is',\n",
       "   'that',\n",
       "   'n',\n",
       "   'is',\n",
       "   'not',\n",
       "   'equal',\n",
       "   'to']),\n",
       " (True, 3),\n",
       " (False, [',', 'that', 'means', 'n', '<']),\n",
       " (True, 3),\n",
       " (False, ['or', 'n', '>']),\n",
       " (True, 3),\n",
       " (False,\n",
       "  ['.',\n",
       "   'in',\n",
       "   'both',\n",
       "   'these',\n",
       "   'conditions',\n",
       "   'the',\n",
       "   'slope',\n",
       "   'will',\n",
       "   'be',\n",
       "   'negative',\n",
       "   '.',\n",
       "   '\\n ']),\n",
       " (True, 1),\n",
       " (False, [')', 'n', '<']),\n",
       " (True, 3),\n",
       " (False, ['(', 'n=']),\n",
       " (True, 2),\n",
       " (False, [')', '\\n ']),\n",
       " (True, -3 - 1 + 3),\n",
       " (False, ['=']),\n",
       " (True, -1),\n",
       " (False, ['\\n ']),\n",
       " (True, 2),\n",
       " (False, [')', 'n', '<']),\n",
       " (True, 3),\n",
       " (False, ['(', 'n=', ')', '\\n ']),\n",
       " (True, -3 + 3 + nan),\n",
       " (False, ['=']),\n",
       " (True, -1),\n",
       " (False, ['\\n ']),\n",
       " (True, 3),\n",
       " (False, [')', 'n', '<']),\n",
       " (True, 3),\n",
       " (False, ['(', 'n=']),\n",
       " (True, -3),\n",
       " (False, [')', '\\n ']),\n",
       " (True, -3 + 3/(-3) + 3),\n",
       " (False, ['=']),\n",
       " (True, (-2)/3),\n",
       " (False, ['\\n ']),\n",
       " (True, 4),\n",
       " (False, [')', 'n', '>']),\n",
       " (True, 3),\n",
       " (False, ['\\n ']),\n",
       " (True, -3 - 1 + 3),\n",
       " (False, ['=']),\n",
       " (True, -1),\n",
       " (False, ['\\n ', 'naswer', 'c'])]"
      ]
     },
     "execution_count": 24,
     "metadata": {},
     "output_type": "execute_result"
    }
   ],
   "source": [
    "parse_rationale(d['rationale'])"
   ]
  },
  {
   "cell_type": "code",
   "execution_count": 25,
   "metadata": {},
   "outputs": [
    {
     "data": {
      "text/plain": [
       "[(4.00000000000000, True, False),\n",
       " (-1.00000000000000, True, False),\n",
       " (0.250000000000000, False, True)]"
      ]
     },
     "execution_count": 25,
     "metadata": {},
     "output_type": "execute_result"
    }
   ],
   "source": [
    "extract_nums('s ¼')"
   ]
  },
  {
   "cell_type": "code",
   "execution_count": 26,
   "metadata": {},
   "outputs": [
    {
     "data": {
      "text/plain": [
       "list"
      ]
     },
     "execution_count": 26,
     "metadata": {},
     "output_type": "execute_result"
    }
   ],
   "source": [
    "type(parse_rationale('s ¼')[0][1])"
   ]
  },
  {
   "cell_type": "code",
   "execution_count": 27,
   "metadata": {},
   "outputs": [
    {
     "name": "stdout",
     "output_type": "stream",
     "text": [
      "Slope of the given line= 3-n/n-3\n",
      "Given information is that n is not equal to 3, that means n <3 or n>3. In both these conditions the slope will be negative.\n",
      "1) n<3 (n=2)\n",
      "3-2/2-3= -1\n",
      "2) n<3 (n= 0)\n",
      "3-0/0-3= -1\n",
      "3) n<3 (n=-3)\n",
      "3+3/ -3-3= -2/3\n",
      "4) n>3\n",
      "3-4/4-3= -1\n",
      "NAswer C\n",
      "Slope of the given line= 3-n / n-3 \n",
      " Given information is that n is not equal to 3 , that means n <3 or n>3 . In both these conditions the slope will be negative . \n",
      " 1 ) n<3 ( n=2 ) \n",
      " 3 - 2/2 - 3=-1 \n",
      " 2 ) n<3 ( n= ) \n",
      " 3 - 0/0 - 3=-1 \n",
      " 3 ) n<3 ( n=-3 ) \n",
      " 3 + 3/-3 - 3=-2/3 \n",
      " 4 ) n>3 \n",
      " 3 - 4/4 - 3=-1 \n",
      " NAswer C\n"
     ]
    },
    {
     "data": {
      "text/plain": [
       "[(3.00000000000000, True, False),\n",
       " (-1.00000000000000, True, False),\n",
       " (2.00000000000000, True, False),\n",
       " (-3.00000000000000, True, False),\n",
       " (-1.00000000000000, False, True),\n",
       " (3.00000000000000, True, True),\n",
       " (3.00000000000000, True, True),\n",
       " (3.00000000000000, True, True),\n",
       " (1.00000000000000, True, True),\n",
       " (3.00000000000000, True, True),\n",
       " (2.00000000000000, True, True),\n",
       " (3.00000000000000, True, False),\n",
       " (-1.00000000000000, True, False),\n",
       " (2.00000000000000, True, False),\n",
       " (-3.00000000000000, True, False),\n",
       " (-1.00000000000000, False, True),\n",
       " (-1.00000000000000, True, True),\n",
       " (2.00000000000000, True, True),\n",
       " (3.00000000000000, True, True),\n",
       " (3.00000000000000, True, False),\n",
       " (nan, True, False),\n",
       " (nan, True, False),\n",
       " (-3.00000000000000, True, False),\n",
       " (nan, False, True),\n",
       " (-1.00000000000000, True, True),\n",
       " (3.00000000000000, True, True),\n",
       " (3.00000000000000, True, True),\n",
       " (-3.00000000000000, True, True),\n",
       " (3.00000000000000, True, False),\n",
       " (3.00000000000000, True, False),\n",
       " (-3.00000000000000, True, False),\n",
       " (-1.00000000000000, True, False),\n",
       " (-0.333333333333333, False, False),\n",
       " (-1.00000000000000, False, False),\n",
       " (2.00000000000000, False, False),\n",
       " (-3.00000000000000, True, False),\n",
       " (-1.00000000000000, False, True),\n",
       " (3.00000000000000, True, False),\n",
       " (-1.00000000000000, True, False),\n",
       " (0.333333333333333, False, False),\n",
       " (-2.00000000000000, True, False),\n",
       " (-0.666666666666667, False, True),\n",
       " (4.00000000000000, True, True),\n",
       " (3.00000000000000, True, True),\n",
       " (3.00000000000000, True, False),\n",
       " (-1.00000000000000, True, False),\n",
       " (2.00000000000000, True, False),\n",
       " (-3.00000000000000, True, False),\n",
       " (-1.00000000000000, False, True),\n",
       " (-1.00000000000000, True, True)]"
      ]
     },
     "execution_count": 27,
     "metadata": {},
     "output_type": "execute_result"
    }
   ],
   "source": [
    "print(d['rationale'])\n",
    "print(rewrite_with_tokenization(d['rationale']))\n",
    "extract_nums(d['rationale'])"
   ]
  },
  {
   "cell_type": "code",
   "execution_count": 28,
   "metadata": {},
   "outputs": [
    {
     "name": "stdout",
     "output_type": "stream",
     "text": [
      "['A)I only', 'B)II only', 'C)III only', 'D)I and II', 'E)II and III']\n",
      "[]\n",
      "[]\n",
      "[]\n",
      "[]\n",
      "[]\n"
     ]
    }
   ],
   "source": [
    "print(d['options'])\n",
    "for option in d['options']:\n",
    "    print(extract_nums(option))"
   ]
  }
 ],
 "metadata": {
  "kernelspec": {
   "display_name": "Python 3",
   "language": "python",
   "name": "python3"
  },
  "language_info": {
   "codemirror_mode": {
    "name": "ipython",
    "version": 3
   },
   "file_extension": ".py",
   "mimetype": "text/x-python",
   "name": "python",
   "nbconvert_exporter": "python",
   "pygments_lexer": "ipython3",
   "version": "3.6.3"
  }
 },
 "nbformat": 4,
 "nbformat_minor": 2
}
