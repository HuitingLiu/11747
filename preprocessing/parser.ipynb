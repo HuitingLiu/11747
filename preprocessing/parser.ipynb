{
 "cells": [
  {
   "cell_type": "code",
   "execution_count": 1,
   "metadata": {},
   "outputs": [],
   "source": [
    "from __future__ import print_function"
   ]
  },
  {
   "cell_type": "code",
   "execution_count": 2,
   "metadata": {},
   "outputs": [],
   "source": [
    "import re\n",
    "import spacy\n",
    "\n",
    "from collections import Counter\n",
    "from simpleTransform import SimpleTransform\n",
    "from sympy import postorder_traversal, Symbol\n",
    "from sympy.parsing.sympy_parser import _token_splittable\n",
    "from sympy.parsing.sympy_parser import convert_xor\n",
    "from sympy.parsing.sympy_parser import factorial_notation\n",
    "from sympy.parsing.sympy_parser import function_exponentiation\n",
    "from sympy.parsing.sympy_parser import implicit_application\n",
    "from sympy.parsing.sympy_parser import implicit_multiplication\n",
    "from sympy.parsing.sympy_parser import parse_expr\n",
    "from sympy.parsing.sympy_parser import split_symbols_custom\n",
    "from sympy.parsing.sympy_parser import standard_transformations\n",
    "from sympy.parsing.sympy_tokenize import ENDMARKER\n",
    "from sympy.parsing.sympy_tokenize import NAME\n",
    "from sympy.parsing.sympy_tokenize import NUMBER\n",
    "from sympy.parsing.sympy_tokenize import OP\n",
    "from sympy.parsing.sympy_tokenize import STRING"
   ]
  },
  {
   "cell_type": "code",
   "execution_count": 3,
   "metadata": {},
   "outputs": [],
   "source": [
    "def rewrite_number(text):\n",
    "    se = SimpleTransform()\n",
    "    start = 0\n",
    "    n = len(text)\n",
    "    result = ''\n",
    "    while start < n:\n",
    "        matched, num_str = se.rewriteNumber(list(text[start:]))\n",
    "        if matched > 0:\n",
    "            start += matched\n",
    "            result += num_str\n",
    "        else:\n",
    "            while start < n and not text[start].isspace():\n",
    "                result += text[start]\n",
    "                start += 1\n",
    "            if start < n:\n",
    "                result += text[start]\n",
    "            start += 1\n",
    "    return result"
   ]
  },
  {
   "cell_type": "code",
   "execution_count": 4,
   "metadata": {},
   "outputs": [],
   "source": [
    "tokenizer = spacy.load('en').tokenizer\n",
    "arrow_str = re.compile(r'(-( )*){3,}')\n",
    "doller_num = re.compile(r'($)(\\d)')\n",
    "stock_num = re.compile(r'([A-z]\\.)(\\d)')\n",
    "num_unit = re.compile(r'(\\d,\\d\\d\\d)([A-z])')\n",
    "power_notation = re.compile(r'(\\(\\d+\\))(\\d)')\n",
    "\n",
    "def rewrite_with_tokenization(text):\n",
    "    text = power_notation.sub(r'\\g<1>^\\g<2>', text)\n",
    "    text = arrow_str.sub('\\u2192', text)\n",
    "    text = doller_num.sub(r'\\g<1> \\g<2>', text)\n",
    "    text = stock_num.sub(r'\\g<1> \\g<2>', text)\n",
    "    text = num_unit.sub(r'\\g<1> \\g<2>', text)\n",
    "    text = rewrite_number(text)\n",
    "    spaced_text = ' '.join(map(str, tokenizer(text)))\n",
    "    return rewrite_number(spaced_text)"
   ]
  },
  {
   "cell_type": "code",
   "execution_count": 5,
   "metadata": {},
   "outputs": [],
   "source": [
    "def combinatorial_notation(tokens, local_dict, global_dict):\n",
    "    beginning = [(NAME, 'binomial'), (OP, '(')]\n",
    "    comma = [(OP, ',')]\n",
    "    end = [(OP, ')')]\n",
    "    last_toknum = None\n",
    "    result = []\n",
    "    for toknum, tokval in tokens:\n",
    "        if last_toknum == NUMBER and toknum == NAME and len(tokval) > 1 and tokval[0] in ('c', 'C') and tokval[1:].isdigit():\n",
    "            result = result[:-1] + beginning + result[-1:] + comma + [(NUMBER, tokval[1:])] + end\n",
    "        else:\n",
    "            result.append((toknum, tokval))\n",
    "            last_toknum = toknum\n",
    "    return result"
   ]
  },
  {
   "cell_type": "code",
   "execution_count": 6,
   "metadata": {},
   "outputs": [],
   "source": [
    "operator_dict = {\n",
    "    '\\u00f7': '/',\n",
    "    '\\u00d7': '*',\n",
    "}\n",
    "def unicode_operator(tokens, local_dict, global_dict):\n",
    "    result = []\n",
    "    for toknum, tokval in tokens:\n",
    "        if tokval in operator_dict:\n",
    "            toknum = OP\n",
    "            tokval = operator_dict[tokval]\n",
    "        result.append((toknum, tokval))\n",
    "    return result"
   ]
  },
  {
   "cell_type": "code",
   "execution_count": 7,
   "metadata": {},
   "outputs": [],
   "source": [
    "def reject_symbols(symbols):\n",
    "    def transformation(tokens, local_dict, global_dict):\n",
    "        for toknum, tokval in tokens:\n",
    "            if toknum == NAME and tokval in symbols:\n",
    "                raise NameError()\n",
    "        return tokens\n",
    "    return transformation"
   ]
  },
  {
   "cell_type": "code",
   "execution_count": 8,
   "metadata": {},
   "outputs": [],
   "source": [
    "def get_transformations(splittable_symbols):\n",
    "    def splittable(symbol):\n",
    "        return set(symbol).issubset(splittable_symbols)\n",
    "    return (combinatorial_notation, unicode_operator) + standard_transformations + (\n",
    "        convert_xor,\n",
    "        split_symbols_custom(splittable),\n",
    "        implicit_multiplication,\n",
    "        implicit_application,\n",
    "        function_exponentiation\n",
    "    )"
   ]
  },
  {
   "cell_type": "code",
   "execution_count": 9,
   "metadata": {},
   "outputs": [],
   "source": [
    "def all_symbols(expr):\n",
    "    for sub_expr in postorder_traversal(expr):\n",
    "        if hasattr(sub_expr, 'is_symbol') and sub_expr.is_symbol:\n",
    "            yield str(sub_expr)"
   ]
  },
  {
   "cell_type": "code",
   "execution_count": 10,
   "metadata": {},
   "outputs": [],
   "source": [
    "def all_values(expr):\n",
    "    for sub_expr in postorder_traversal(expr):\n",
    "        eval_result = sub_expr.evalf()\n",
    "        if eval_result.is_number:\n",
    "            yield eval_result, len(sub_expr.args) == 0"
   ]
  },
  {
   "cell_type": "code",
   "execution_count": 11,
   "metadata": {},
   "outputs": [],
   "source": [
    "def parse(text, splittable_symbols=set(), local_dict={name: Symbol(name) for name in ('x', 'y', 'z', 'A', 'B', 'C')}):\n",
    "    from sympy import binomial, factorial, factorial2, Mul, Add\n",
    "    local_dict['binomial'] = lambda x, y: binomial(x, y, evaluate = False)\n",
    "    local_dict['factorial'] = lambda x: factorial(x, evaluate = False)\n",
    "    local_dict['factorial2'] = lambda x: factorial2(x, evaluate = False)\n",
    "    try:\n",
    "        mul_identity = Mul.identity\n",
    "        Mul.identity = None\n",
    "        add_identity = Add.identity\n",
    "        Add.identity = None\n",
    "        expr = parse_expr(text, local_dict=local_dict, transformations=get_transformations(splittable_symbols), evaluate=False)\n",
    "    finally:\n",
    "        Mul.identity = mul_identity\n",
    "        Add.identity = add_identity\n",
    "    for symbol in all_symbols(expr):\n",
    "        if '_' in symbol and '' not in symbol.split('_'):\n",
    "            continue\n",
    "        if len(symbol) > 2:\n",
    "            raise NameError()\n",
    "        if len(symbol) == 2 and not symbol[-1].isdigit():\n",
    "            raise NameError()\n",
    "    return expr"
   ]
  },
  {
   "cell_type": "code",
   "execution_count": 12,
   "metadata": {},
   "outputs": [],
   "source": [
    "def try_parse(text, splittable_symbols=set(), local_dict=None):\n",
    "    try:\n",
    "        if local_dict is None:\n",
    "            return parse(text, splittable_symbols=splittable_symbols)\n",
    "        return parse(text, splittable_symbols=splittable_symbols, local_dict=local_dict)\n",
    "    except:\n",
    "        return None"
   ]
  },
  {
   "cell_type": "code",
   "execution_count": 13,
   "metadata": {},
   "outputs": [],
   "source": [
    "def potential_expr(char):\n",
    "    return char.isdigit() or char in {'+', '*', '/', '^'}"
   ]
  },
  {
   "cell_type": "code",
   "execution_count": 14,
   "metadata": {},
   "outputs": [],
   "source": [
    "def extract_exprs_from_line(line, splittable_symbols=set()):\n",
    "    if not line:\n",
    "        return []\n",
    "    pos = 0\n",
    "    n = len(line)\n",
    "    lower_bound = 0\n",
    "    while pos < n:\n",
    "        if potential_expr(line[pos]):\n",
    "            start = pos\n",
    "            end = pos + 1\n",
    "            found = False\n",
    "            for start in range(lower_bound, pos + 1):\n",
    "                if start > lower_bound and line[start-1].isalpha() and line[start].isalpha():\n",
    "                    continue\n",
    "                for end in range(n, pos, -1):\n",
    "                    if end < n and line[end].isalpha() and line[end-1].isalpha():\n",
    "                        continue\n",
    "                    expr_text = line[start:end]\n",
    "                    expr = try_parse(expr_text, splittable_symbols)\n",
    "                    if expr is not None:\n",
    "                        yield start, end, expr\n",
    "                        lower_bound = end\n",
    "                        pos = end\n",
    "                        found = True\n",
    "                        break\n",
    "                if found:\n",
    "                    break\n",
    "            if not found:\n",
    "                pos += 1\n",
    "        else:\n",
    "            pos += 1"
   ]
  },
  {
   "cell_type": "code",
   "execution_count": 15,
   "metadata": {},
   "outputs": [],
   "source": [
    "def extract_exprs_from_text(text, splittable_symbols=set(), delimiter=re.compile(r'(=|\\n|,|>|<)')):\n",
    "    base = 0\n",
    "    for segment in delimiter.split(text):\n",
    "        if len(segment) > 0 and delimiter.match(segment) is None:\n",
    "            for start, end, expr in extract_exprs_from_line(segment, splittable_symbols):\n",
    "                yield base + start, base + end, expr\n",
    "        base += len(segment)"
   ]
  },
  {
   "cell_type": "code",
   "execution_count": 16,
   "metadata": {},
   "outputs": [],
   "source": [
    "def split_text_and_expr(text, splittable_symbols=set()):\n",
    "    last_end = 0\n",
    "    for start, end, expr in extract_exprs_from_text(text, splittable_symbols):\n",
    "        if last_end != start:\n",
    "            yield last_end, start, text[last_end:start]\n",
    "        yield start, end, expr\n",
    "        last_end = end\n",
    "    if last_end < len(text):\n",
    "        yield last_end, len(text), text[last_end:len(text)]"
   ]
  },
  {
   "cell_type": "code",
   "execution_count": 17,
   "metadata": {},
   "outputs": [],
   "source": [
    "def parse_rationale(text):\n",
    "    symbols = set()\n",
    "    for start, end, segment in split_text_and_expr(text):\n",
    "        is_expr = type(segment) != str\n",
    "        if is_expr:\n",
    "            symbols |= set(all_symbols(segment))\n",
    "    splittable_symbols = {symbol for symbol in symbols if len(symbol) == 1}\n",
    "    #print(splittable_symbols)\n",
    "\n",
    "    results = []\n",
    "    for start, end, segment in split_text_and_expr(text, splittable_symbols=splittable_symbols):\n",
    "        is_expr = type(segment) != str\n",
    "        if is_expr:\n",
    "            results.append((is_expr, segment))\n",
    "        else:\n",
    "            results.append((is_expr, list(map(lambda x:str(x).lower(), tokenizer(segment)))))\n",
    "\n",
    "    return results"
   ]
  },
  {
   "cell_type": "code",
   "execution_count": 18,
   "metadata": {},
   "outputs": [],
   "source": [
    "text = \"At the non-discounted price, each friend would pay $240, as $ 1200 divided by 5 friends is $240 per friend. But if the bill is 15% off, then each friend would pay 15% less. 15% of $240 is $36, so each friend saves $36 and pays the remaining $204\\nCORRECT OPTION:OPTION E\""
   ]
  },
  {
   "cell_type": "code",
   "execution_count": 19,
   "metadata": {},
   "outputs": [],
   "source": [
    "text = \"Total 12 different Gifts, and 4 children.\\nThus any one child gets 12C3 gifts,\\nthen the other child gets 9C3 gifts(12 total - 3 already given),\\nthen the third one gets 6C3 gifts,\\nand the last child gets 3C3 gifts.\\nSince order in which each child gets the gift is not imp, thus, ans :\\n12C3 * 9C3 * 6C3 * 3C3 = 12! / (3!)^4\\nAns : C.\""
   ]
  },
  {
   "cell_type": "code",
   "execution_count": 20,
   "metadata": {},
   "outputs": [],
   "source": [
    "text = \"spotting the pattern of equations both are in form of (X+C)^2 so\\nA1= (x+2)^2A2= (2x-3)^2\\nL1= x+2L2= 2x-3\\nP1 = 4( x+2)P2=4(2x-3)\\nP1+P2=32\\n4( x+2) +4(2x-3)=32..............> X=3\\nAnswer: E\""
   ]
  },
  {
   "cell_type": "code",
   "execution_count": 21,
   "metadata": {},
   "outputs": [],
   "source": [
    "text = \"For all positive integers n and m,\\nA(n) = (1 + 1/2 + 1/2^2)(1 + 1/3 + 3^2)(1 + 1/5 + 5^2)\\u2026(1 + 1/p_n + 1/p_n^2), where p_n is the nth smallest prime number,\\nnote:i think there's a typo in the above function, A(n) could be (1 + 1/2 + 1/2^2)(1 + 1/3 +1/3^2)(1 + 1/5 +1/5^2)\\u2026(1 + 1/p_n + 1/p_n^2)\\nB(m) = sum of the reciprocals of all the positive integers from 1 through m, inclusive.\\nA(5), here 5 represents the 5th smallest prime number; the 5th smallest prime number is 11 {2, 3, 5, 7, 11, ...}\\nA(5) = (1 + 1/2 + 1/2^2)(1 + 1/3 + 3^2)(1 + 1/5 + 5^2)(1 + 1/7 + 1/7^2)(1 + 1/11 + 11^2)\\nThe distributed expansion of A(5) = 1 + 1/2 + 1/3 + 1/4 + 1/5 + 1/6 +1/7 + 1/9+ 1/10 + 1/11 +1/12 + 1/14+ ...\\nmissing numbers are 1/8, 1/13, 1/16, ....\\nB(25) = (1 + 1/2 + 1/3 + 1/4 + ... + 1/16 + 1/17 + ... + 1/25)\\nhere the largest reciprocal is 1 and the reciprocals are arranged in descending order based on their values\\nThe largest reciprocal that present in B(25) but not in A(5) is 1/3\\nAnswer A\""
   ]
  },
  {
   "cell_type": "code",
   "execution_count": 22,
   "metadata": {},
   "outputs": [],
   "source": [
    "text = \"The required probability C= probability of choosing 6 balls out of the total 8 in such a way that we remove 4 out of 5 white and 2 out of 3 blue balls.\\nWays to select 6 out of total 8 = 8C6\\nWays to select 4 out of 5 white balls = 5C4\\nWays to select 2 out of 3 blue balls = 3C2\\nThus the required probability = (5C4*3C2)/8C6 = 15/28.\\nD is thus the correct answer.\""
   ]
  },
  {
   "cell_type": "code",
   "execution_count": 23,
   "metadata": {},
   "outputs": [],
   "source": [
    "text = \"M + D + I = 74 - - ----- (1)\\n(D + I) - M = 46 - - - (2)\\nI = 410410 D \\u21d2\\u21d2 5I = 2D \\u21d2\\u21d2 I = 2D/5 - - - (3)\\nAdding (1) and (2) we get 2D + 2I = 120\\nSubstituting the value of I in the above equation,\\n2D+2(2D5)=1202D+2(2D5)=120\\n\\u21d2\\u21d2 14D = 600\\n\\u21d2\\u21d2 D = 300/7 = 42.8\\nAns:B\""
   ]
  },
  {
   "cell_type": "code",
   "execution_count": 24,
   "metadata": {},
   "outputs": [
    {
     "name": "stdout",
     "output_type": "stream",
     "text": [
      "M + D + I = 74 →(1 ) \n",
      " ( D + I ) - M = 46 →(2 ) \n",
      " I = 410410 D ⇒⇒ 5I = 2D ⇒⇒ I = 2D/5 →(3 ) \n",
      " Adding ( 1 ) and ( 2 ) we get 2D + 2I = 120 \n",
      " Substituting the value of I in the above equation , \n",
      " 2D+2(2D5)=1202D+2(2D5)=120 \n",
      " ⇒⇒ 14D = 600 \n",
      " ⇒⇒ D = 300/7 = 42.8 \n",
      " Ans : B\n"
     ]
    },
    {
     "data": {
      "text/plain": [
       "[(True, D + M + I),\n",
       " (False, ['=']),\n",
       " (True, 74),\n",
       " (False, ['→']),\n",
       " (True, 1),\n",
       " (False, ['\\n']),\n",
       " (True, D - M + I),\n",
       " (False, ['=']),\n",
       " (True, 46),\n",
       " (False, ['→']),\n",
       " (True, 2),\n",
       " (False, ['\\n ', 'i', '=']),\n",
       " (True, 410410*D),\n",
       " (False, ['⇒⇒']),\n",
       " (True, 5*I),\n",
       " (False, ['=']),\n",
       " (True, 2*D),\n",
       " (False, ['⇒⇒', 'i', '=']),\n",
       " (True, 2*D/5),\n",
       " (False, ['→']),\n",
       " (True, 3),\n",
       " (False, ['\\n ', 'adding']),\n",
       " (True, 1),\n",
       " (False, ['and']),\n",
       " (True, 2),\n",
       " (False, ['we', 'get']),\n",
       " (True, 2*D + 2*I),\n",
       " (False, ['=']),\n",
       " (True, 120),\n",
       " (False,\n",
       "  ['\\n ',\n",
       "   'substituting',\n",
       "   'the',\n",
       "   'value',\n",
       "   'of',\n",
       "   'i',\n",
       "   'in',\n",
       "   'the',\n",
       "   'above',\n",
       "   'equation',\n",
       "   ',',\n",
       "   '\\n']),\n",
       " (True, 2*D + 2*2*D5),\n",
       " (False, ['=']),\n",
       " (True, 1202*D + 2*2*D5),\n",
       " (False, ['=']),\n",
       " (True, 120),\n",
       " (False, ['\\n ', '⇒⇒']),\n",
       " (True, 14*D),\n",
       " (False, ['=']),\n",
       " (True, 600),\n",
       " (False, ['\\n ', '⇒⇒', 'd', '=']),\n",
       " (True, 300/7),\n",
       " (False, ['=']),\n",
       " (True, 42.8000000000000),\n",
       " (False, ['\\n ', 'ans', ':', 'b'])]"
      ]
     },
     "execution_count": 24,
     "metadata": {},
     "output_type": "execute_result"
    }
   ],
   "source": [
    "rewritten_text = rewrite_with_tokenization(text)\n",
    "print(rewritten_text)\n",
    "parse_rationale(rewritten_text)"
   ]
  },
  {
   "cell_type": "code",
   "execution_count": 25,
   "metadata": {},
   "outputs": [
    {
     "data": {
      "text/plain": [
       "[(5.00000000000000, True),\n",
       " (4.00000000000000, True),\n",
       " (5.00000000000000, False),\n",
       " (3.00000000000000, True),\n",
       " (2.00000000000000, True),\n",
       " (3.00000000000000, False),\n",
       " (8.00000000000000, True),\n",
       " (6.00000000000000, True),\n",
       " (28.0000000000000, False),\n",
       " (-1.00000000000000, True),\n",
       " (0.0357142857142857, False),\n",
       " (0.535714285714286, False)]"
      ]
     },
     "execution_count": 25,
     "metadata": {},
     "output_type": "execute_result"
    }
   ],
   "source": [
    "list(all_values(parse('(5C4*3C2)/8C6')))"
   ]
  },
  {
   "cell_type": "code",
   "execution_count": 26,
   "metadata": {},
   "outputs": [
    {
     "data": {
      "text/plain": [
       "[(15.0000000000000, True),\n",
       " (28.0000000000000, True),\n",
       " (-1.00000000000000, True),\n",
       " (0.0357142857142857, False),\n",
       " (0.535714285714286, False)]"
      ]
     },
     "execution_count": 26,
     "metadata": {},
     "output_type": "execute_result"
    }
   ],
   "source": [
    "list(all_values(parse('15/28')))"
   ]
  },
  {
   "cell_type": "code",
   "execution_count": 27,
   "metadata": {},
   "outputs": [],
   "source": [
    "text= \"be 1*3!*2! + 1*3!*2! + 1*3!*2! + 1*3!*2! = 4 *1*3! *2 !\\nSo probability is (4! * 2! ) / 5! = 2/5\\nSolution 2:\\nConsider C*E as 1 person .\""
   ]
  },
  {
   "cell_type": "code",
   "execution_count": 28,
   "metadata": {},
   "outputs": [
    {
     "data": {
      "text/plain": [
       "[(1.00000000000000, True),\n",
       " (2.00000000000000, True),\n",
       " (-1.00000000000000, True),\n",
       " (0.500000000000000, False),\n",
       " (0.500000000000000, False)]"
      ]
     },
     "execution_count": 28,
     "metadata": {},
     "output_type": "execute_result"
    }
   ],
   "source": [
    "list(all_values(parse('1/2')))"
   ]
  },
  {
   "cell_type": "code",
   "execution_count": 29,
   "metadata": {},
   "outputs": [
    {
     "name": "stdout",
     "output_type": "stream",
     "text": [
      "be 1*3!*2! + 1*3!*2! + 1*3!*2! + 1*3!*2! = 4 *1*3! *2 !\n",
      "So probability is (4! * 2! ) / 5! = 2/5\n",
      "Solution 2:\n",
      "Consider C*E as 1 person .\n",
      "be 1 * 3!*2 ! + 1 * 3!*2 ! + 1 * 3!*2 ! + 1 * 3!*2 ! = 4 * 1 * 3 ! * 2 ! \n",
      " So probability is ( 4 ! * 2 ! ) / 5 ! = 2/5 \n",
      " Solution 2 : \n",
      " Consider C*E as 1 person .\n"
     ]
    },
    {
     "data": {
      "text/plain": [
       "[(False, ['be']),\n",
       " (True,\n",
       "  factorial(2)*factorial(3) + factorial(2)*factorial(3) + factorial(2)*factorial(3) + factorial(2)*factorial(3)),\n",
       " (False, ['=']),\n",
       " (True, 4*factorial(2)*factorial(3)),\n",
       " (False, ['\\n ', 'so', 'probability', 'is']),\n",
       " (True, factorial(2)*factorial(4)/factorial(5)),\n",
       " (False, ['=']),\n",
       " (True, 2/5),\n",
       " (False, ['\\n ', 'solution']),\n",
       " (True, 2),\n",
       " (False, [':', '\\n ', 'consider']),\n",
       " (True, E*C),\n",
       " (False, ['as']),\n",
       " (True, 1),\n",
       " (False, ['person', '.'])]"
      ]
     },
     "execution_count": 29,
     "metadata": {},
     "output_type": "execute_result"
    }
   ],
   "source": [
    "print(text)\n",
    "print(rewrite_with_tokenization(text))\n",
    "parse_rationale(rewrite_with_tokenization(text))"
   ]
  },
  {
   "cell_type": "code",
   "execution_count": null,
   "metadata": {},
   "outputs": [],
   "source": []
  }
 ],
 "metadata": {
  "kernelspec": {
   "display_name": "Python 3",
   "language": "python",
   "name": "python3"
  },
  "language_info": {
   "codemirror_mode": {
    "name": "ipython",
    "version": 3
   },
   "file_extension": ".py",
   "mimetype": "text/x-python",
   "name": "python",
   "nbconvert_exporter": "python",
   "pygments_lexer": "ipython3",
   "version": "3.6.3"
  }
 },
 "nbformat": 4,
 "nbformat_minor": 2
}
