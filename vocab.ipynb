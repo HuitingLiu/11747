{
 "cells": [
  {
   "cell_type": "code",
   "execution_count": 1,
   "metadata": {},
   "outputs": [],
   "source": [
    "import argparse\n",
    "import cloudpickle\n",
    "import json\n",
    "import re\n",
    "\n",
    "from collections import Counter, defaultdict"
   ]
  },
  {
   "cell_type": "code",
   "execution_count": 2,
   "metadata": {},
   "outputs": [],
   "source": [
    "UNK = ('<UNK>',)\n",
    "OPTION = ('<OPT>',)\n",
    "CHECK_A = ('A', )\n",
    "CHECK_B = ('B', )\n",
    "CHECK_C = ('C', )\n",
    "CHECK_D = ('D', )\n",
    "CHECK_E = ('E', )"
   ]
  },
  {
   "cell_type": "code",
   "execution_count": 3,
   "metadata": {},
   "outputs": [],
   "source": [
    "def tokenize(sent, pattern=re.compile('(\\W)')):\n",
    "    return (tok.lower() for tok in pattern.split(sent) if tok and tok != ' ')"
   ]
  },
  {
   "cell_type": "code",
   "execution_count": 4,
   "metadata": {},
   "outputs": [],
   "source": [
    "def load_tokens(path):\n",
    "    with open(path, 'rb') as f:\n",
    "        for line in f:\n",
    "            item = json.loads(line.decode('utf-8'))\n",
    "            yield from tokenize(item['question'])\n",
    "            for option in item['options']:\n",
    "                yield from tokenize(option)\n",
    "            yield from tokenize(item['rationale'])"
   ]
  },
  {
   "cell_type": "code",
   "execution_count": 5,
   "metadata": {},
   "outputs": [],
   "source": [
    "def build_vocab(tokens, unk_threshold=2):\n",
    "    tok_count = Counter(tokens)\n",
    "    tok2id = defaultdict(lambda: 0, {UNK: 0, OPTION: 1, CHECK_A: 2, CHECK_B: 3, CHECK_C: 4, CHECK_D: 5, CHECK_E: 6})\n",
    "    for word in tok_count:\n",
    "        if tok_count[word] > unk_threshold:\n",
    "            tok2id[word] = len(tok2id)\n",
    "    id2tok = {tok2id[word]: word for word in tok2id}\n",
    "    return tok2id, id2tok"
   ]
  },
  {
   "cell_type": "code",
   "execution_count": 6,
   "metadata": {},
   "outputs": [],
   "source": [
    "def load_vocabs(path='./vocab.dmp'):\n",
    "    with open(path, 'rb') as f:\n",
    "        return cloudpickle.load(f)"
   ]
  },
  {
   "cell_type": "code",
   "execution_count": 10,
   "metadata": {},
   "outputs": [],
   "source": [
    "def main():\n",
    "    parser = argparse.ArgumentParser(description='Build vocabulary')\n",
    "    parser.add_argument('--dataset', default='./data/train.tok.json', type=str)\n",
    "    parser.add_argument('--unk_threshold', default=2, type=int)\n",
    "    parser.add_argument('--save_to', default='./vocab.dmp', type=str)\n",
    "    args, _ = parser.parse_known_args()\n",
    "    \n",
    "    tok2id, id2tok = build_vocab(load_tokens(args.dataset), args.unk_threshold)\n",
    "    with open(args.save_to, 'wb') as f:\n",
    "        cloudpickle.dump((tok2id, id2tok), f)"
   ]
  },
  {
   "cell_type": "code",
   "execution_count": null,
   "metadata": {},
   "outputs": [],
   "source": [
    "if __name__ == '__main__':\n",
    "    main()"
   ]
  }
 ],
 "metadata": {
  "kernelspec": {
   "display_name": "Python 3",
   "language": "python",
   "name": "python3"
  },
  "language_info": {
   "codemirror_mode": {
    "name": "ipython",
    "version": 3
   },
   "file_extension": ".py",
   "mimetype": "text/x-python",
   "name": "python",
   "nbconvert_exporter": "python",
   "pygments_lexer": "ipython3",
   "version": "3.5.3"
  }
 },
 "nbformat": 4,
 "nbformat_minor": 2
}
