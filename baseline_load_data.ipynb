{
 "cells": [
  {
   "cell_type": "code",
   "execution_count": 1,
   "metadata": {},
   "outputs": [],
   "source": [
    "import json\n",
    "\n",
    "from itertools import chain\n",
    "from vocab import tokenize, load_vocabs, UNK, OPTION, CHECK_A, CHECK_B, CHECK_C, CHECK_D, CHECK_E, START_R"
   ]
  },
  {
   "cell_type": "code",
   "execution_count": 2,
   "metadata": {},
   "outputs": [],
   "source": [
    "tok2id, id2tok = load_vocabs()\n",
    "VOCAB_SIZE = len(tok2id)"
   ]
  },
  {
   "cell_type": "code",
   "execution_count": 3,
   "metadata": {},
   "outputs": [],
   "source": [
    "def load_questions(path):\n",
    "    check2tok = {'A': CHECK_A, 'B': CHECK_B, 'C': CHECK_C, 'D': CHECK_D, 'E': CHECK_E}\n",
    "    id_seq = lambda tokens: [tok2id[tok] for tok in tokens]\n",
    "    with open(path, 'rb') as f:\n",
    "        dataset = []\n",
    "        for line in f:\n",
    "            item = json.loads(line.decode('utf-8'))\n",
    "            input_tokens = chain(tokenize(item['question']), *chain(chain([OPTION], tokenize(option)) for option in item['options']))\n",
    "            output_tokens = chain([START_R], tokenize(item['rationale']), [check2tok[item['correct']]])\n",
    "            dataset.append((id_seq(input_tokens), id_seq(output_tokens)))\n",
    "    return dataset"
   ]
  },
  {
   "cell_type": "code",
   "execution_count": null,
   "metadata": {},
   "outputs": [],
   "source": []
  }
 ],
 "metadata": {
  "kernelspec": {
   "display_name": "Python 3",
   "language": "python",
   "name": "python3"
  },
  "language_info": {
   "codemirror_mode": {
    "name": "ipython",
    "version": 3
   },
   "file_extension": ".py",
   "mimetype": "text/x-python",
   "name": "python",
   "nbconvert_exporter": "python",
   "pygments_lexer": "ipython3",
   "version": "3.5.2"
  }
 },
 "nbformat": 4,
 "nbformat_minor": 2
}
